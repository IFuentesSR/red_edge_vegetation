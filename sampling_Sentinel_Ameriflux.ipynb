{
  "nbformat": 4,
  "nbformat_minor": 0,
  "metadata": {
    "colab": {
      "provenance": [],
      "authorship_tag": "ABX9TyOENhLkmd2/4aW3J/RNfBEu",
      "include_colab_link": true
    },
    "kernelspec": {
      "name": "python3",
      "display_name": "Python 3"
    },
    "language_info": {
      "name": "python"
    }
  },
  "cells": [
    {
      "cell_type": "markdown",
      "metadata": {
        "id": "view-in-github",
        "colab_type": "text"
      },
      "source": [
        "<a href=\"https://colab.research.google.com/github/IFuentesSR/red_edge_vegetation/blob/main/sampling_Sentinel_Ameriflux.ipynb\" target=\"_parent\"><img src=\"https://colab.research.google.com/assets/colab-badge.svg\" alt=\"Open In Colab\"/></a>"
      ]
    },
    {
      "cell_type": "code",
      "source": [
        "import ee\n",
        "ee.Authenticate()\n",
        "ee.Initialize(project='xxxx') #set your proyect"
      ],
      "metadata": {
        "colab": {
          "base_uri": "https://localhost:8080/"
        },
        "id": "JMJlpSh8yfo1",
        "outputId": "7262c943-20ef-4d3b-9b31-b5c4e0d2c51f"
      },
      "execution_count": 1,
      "outputs": [
        {
          "output_type": "stream",
          "name": "stderr",
          "text": [
            "*** Earth Engine *** Share your feedback by taking our Annual Developer Satisfaction Survey: https://google.qualtrics.com/jfe/form/SV_7TDKVSyKvBdmMqW?ref=4i2o6\n"
          ]
        }
      ]
    },
    {
      "cell_type": "code",
      "execution_count": 5,
      "metadata": {
        "id": "yf6IRZfevwYS"
      },
      "outputs": [],
      "source": [
        "cloudProbabilityThreshold = 40\n",
        "\n",
        "\n",
        "def getS2_CLOUD_PROBABILITY(geo):\n",
        "    # it may also be used the \"COPERNICUS/S2_SR_HARMONIZED\" collection\n",
        "    innerJoined = ee.Join.inner().apply(primary=ee.ImageCollection(\"COPERNICUS/S2_HARMONIZED\").filterBounds(geo).filter(ee.Filter.lt('CLOUDY_PIXEL_PERCENTAGE', 80)),\n",
        "                                        secondary=ee.ImageCollection(\"COPERNICUS/S2_CLOUD_PROBABILITY\").filterBounds(geo),\n",
        "                                        condition=ee.Filter.equals(leftField='system:index',\n",
        "                                                                   rightField='system:index'))\n",
        "    def mergeImageBands(joinResult):\n",
        "        return ee.Image(joinResult.get('primary')).addBands(joinResult.get('secondary'))\n",
        "\n",
        "    newCollection = innerJoined.map(mergeImageBands)\n",
        "    return ee.ImageCollection(newCollection)\n",
        "\n",
        "\n",
        "def maskClouds(_img):\n",
        "    props = _img.propertyNames()\n",
        "    cloudMask = _img.select('probability').gt(cloudProbabilityThreshold)\n",
        "    return _img.addBands(cloudMask.rename('clouds')).copyProperties(_img, props)\n",
        "\n",
        "\n",
        "def add_shadow_bands(img):\n",
        "    # Identify water pixels from the SCL band.\n",
        "    not_water = img.select('SCL').neq(6)\n",
        "\n",
        "    # Identify dark NIR pixels that are not water (potential cloud shadow pixels).\n",
        "    SR_BAND_SCALE = 1e4\n",
        "    CLD_PRJ_DIST = 1\n",
        "    NIR_DRK_THRESH = 0.15\n",
        "    clouds = ee.Image(maskClouds(img)).select('clouds')\n",
        "    dark_pixels = img.select('B8').lt(NIR_DRK_THRESH*SR_BAND_SCALE).rename('dark_pixels')\n",
        "\n",
        "    # Determine the direction to project cloud shadow from clouds (assumes UTM projection).\n",
        "    shadow_azimuth = ee.Number(90).subtract(ee.Number(img.get('MEAN_SOLAR_AZIMUTH_ANGLE')))\n",
        "\n",
        "    # Project shadows from clouds for the distance specified by the CLD_PRJ_DIST input.\n",
        "    cld_proj = (clouds.directionalDistanceTransform(shadow_azimuth, CLD_PRJ_DIST*10) \\\n",
        "        .reproject(crs=img.select(0).projection(), scale=100) \\\n",
        "        .select('distance') \\\n",
        "        .mask() \\\n",
        "        .rename('cloud_transform'))\n",
        "\n",
        "    # Identify the intersection of dark pixels with cloud shadow projection.\n",
        "    shadows = cld_proj.multiply(dark_pixels).rename('shadows')\n",
        "\n",
        "    # Add dark pixels, cloud projection, and identified shadows as image bands.\n",
        "    return img.addBands(ee.Image([dark_pixels, cld_proj, shadows]))\n",
        "\n",
        "\n",
        "def masking(img):\n",
        "  return img.updateMask(img.select('probability').gt(cloudProbabilityThreshold).Not()).updateMask(img.select('shadows').Not())\n",
        "\n",
        "\n",
        "def addNDVI(img):\n",
        "    return img.addBands(img.normalizedDifference(['B8', 'B4']).rename('NDVI')) \\\n",
        "    .addBands(img.select('B8').divide(img.select('B5')).rename('VREI')) \\\n",
        "    .addBands(img.normalizedDifference(['B8', 'B5']).rename('NDRE'))\n",
        "\n",
        "\n",
        "def set_date(img):\n",
        "    return img.set('date', ee.Date(img.get('system:time_start')).format('YYYY-MM-dd'))"
      ]
    },
    {
      "cell_type": "code",
      "source": [
        "table = ee.FeatureCollection('projects/upbeat-imprint-269809/assets/sites_filtered') # Ameriflux stations"
      ],
      "metadata": {
        "id": "9ktdOTsm1gBd"
      },
      "execution_count": 6,
      "outputs": []
    },
    {
      "cell_type": "code",
      "source": [
        "fea = table.first()\n",
        "name_sta = fea.get('Name')\n",
        "geo = fea.geometry()\n",
        "s2 = getS2_CLOUD_PROBABILITY(geo)\n",
        "s2_shdw = s2.map(add_shadow_bands)\n",
        "s2_masked = s2_shdw.map(masking)\n",
        "NDVI_coll = s2_masked.map(addNDVI)\n",
        "print(NDVI_coll.first().select(['NDVI', 'VREI', 'NDRE']).reduceRegion('mean', geo.buffer(30), 20).getInfo())\n"
      ],
      "metadata": {
        "colab": {
          "base_uri": "https://localhost:8080/"
        },
        "id": "8VsULlN31TBM",
        "outputId": "f40684d2-72fe-489d-d390-95e5a961da0d"
      },
      "execution_count": null,
      "outputs": [
        {
          "output_type": "stream",
          "name": "stdout",
          "text": [
            "{'NDRE': 0.04241167081367253, 'NDVI': 0.1223383970256262, 'VREI': 1.0888338258462893}\n"
          ]
        }
      ]
    },
    {
      "cell_type": "code",
      "source": [
        "def get_data(fea):\n",
        "    name_sta = fea.get('Name')\n",
        "    geo = fea.geometry()\n",
        "    s2 = getS2_CLOUD_PROBABILITY(geo)\n",
        "    s2_shdw = s2.map(add_shadow_bands)\n",
        "    s2_masked = s2_shdw.map(masking)\n",
        "    NDVI_coll = s2_masked.map(addNDVI)\n",
        "    def inner(img):\n",
        "        date = ee.Date(img.get('system:time_start')).format('YYYY-MM-dd')\n",
        "        values = img.select(['NDVI', 'VREI', 'NDRE']).reduceRegion('mean', geo.buffer(30), 20)\n",
        "        return ee.Feature(None, {'name':name_sta, 'NDVI':values.get('NDVI'), 'VREI':values.get('VREI'), 'NDRE':values.get('NDRE'), 'date':date, 'system:time_start':ee.Date(img.get('system:time_start')).millis()})\n",
        "    data = NDVI_coll.map(inner)\n",
        "    return data\n"
      ],
      "metadata": {
        "id": "r6KDwZC31tFs"
      },
      "execution_count": 7,
      "outputs": []
    },
    {
      "cell_type": "code",
      "source": [
        "toDrive = table.map(get_data)\n",
        "ee.batch.Export.table.toDrive(toDrive.flatten(), 'ameriflux_Sentinel1').start()"
      ],
      "metadata": {
        "id": "62KUdAlK2q1Q"
      },
      "execution_count": 8,
      "outputs": []
    }
  ]
}